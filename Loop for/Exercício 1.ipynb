{
  "nbformat": 4,
  "nbformat_minor": 0,
  "metadata": {
    "colab": {
      "provenance": [],
      "authorship_tag": "ABX9TyPZvmo3Jwx4QcSWe7oSWyPL",
      "include_colab_link": true
    },
    "kernelspec": {
      "name": "python3",
      "display_name": "Python 3"
    },
    "language_info": {
      "name": "python"
    }
  },
  "cells": [
    {
      "cell_type": "markdown",
      "metadata": {
        "id": "view-in-github",
        "colab_type": "text"
      },
      "source": [
        "<a href=\"https://colab.research.google.com/github/anapalloma/Tech-Cafe/blob/main/Estrutura_de_repeticao_for.ipynb\" target=\"_parent\"><img src=\"https://colab.research.google.com/assets/colab-badge.svg\" alt=\"Open In Colab\"/></a>"
      ]
    },
    {
      "cell_type": "markdown",
      "source": [
        "**Exemplo 1.** Faça um programa que mostre na tela uma contagem regressiva para o estouro de fogos de artifício, indo de 10 até 0."
      ],
      "metadata": {
        "id": "VDh16aevg4xA"
      }
    },
    {
      "cell_type": "code",
      "execution_count": 7,
      "metadata": {
        "colab": {
          "base_uri": "https://localhost:8080/"
        },
        "id": "7sryaHTKf_t2",
        "outputId": "e0cc0dcc-dabc-4660-bd5e-31a16f82da64"
      },
      "outputs": [
        {
          "output_type": "stream",
          "name": "stdout",
          "text": [
            "10\n",
            "9\n",
            "8\n",
            "7\n",
            "6\n",
            "5\n",
            "4\n",
            "3\n",
            "2\n",
            "1\n",
            "0\n",
            "BUM!BUUUUM! POOOOOOW!\n"
          ]
        }
      ],
      "source": [
        "for c in range(10, -1, -1):\n",
        "  print(c)\n",
        "print('BUM!BUUUUM! POOOOOOW!')"
      ]
    },
    {
      "cell_type": "markdown",
      "source": [
        "**Exemplo 2.** Faça um programa que calcule a soma entre todos os **números ímpares** que são **múltiplos de três** e que se encontram no intervalo de **1** até **500**."
      ],
      "metadata": {
        "id": "Hu5coBwghTHX"
      }
    },
    {
      "cell_type": "code",
      "source": [
        "soma = 0\n",
        "for c in range (1, 501):\n",
        "  if c % 2 == 1:\n",
        "    if c % 3 == 0:\n",
        "      soma += c;\n",
        "print(soma)"
      ],
      "metadata": {
        "colab": {
          "base_uri": "https://localhost:8080/"
        },
        "id": "SXTCeQe3hxyQ",
        "outputId": "8e879f4b-abf4-4851-c1af-f719a1200c81"
      },
      "execution_count": 12,
      "outputs": [
        {
          "output_type": "stream",
          "name": "stdout",
          "text": [
            "20667\n"
          ]
        }
      ]
    },
    {
      "cell_type": "code",
      "source": [
        "soma = 0\n",
        "for c in range (1, 501, 2):\n",
        "  if c % 3 == 0:\n",
        "    soma += c;\n",
        "print(soma)"
      ],
      "metadata": {
        "colab": {
          "base_uri": "https://localhost:8080/"
        },
        "id": "Oaz0glrIi37Z",
        "outputId": "51ee7353-8cd5-466b-b5b0-1cd31ef20e42"
      },
      "execution_count": 14,
      "outputs": [
        {
          "output_type": "stream",
          "name": "stdout",
          "text": [
            "20667\n"
          ]
        }
      ]
    },
    {
      "cell_type": "markdown",
      "source": [
        "**Contagem Progressiva:** Escreva um programa que imprima os números de 1 a 10 usando um laço for."
      ],
      "metadata": {
        "id": "3P_xP9emjVdr"
      }
    },
    {
      "cell_type": "markdown",
      "source": [
        "**Contagem Regressiva:** Escreva um programa que use um laço for para imprimir os números de 10 a 1."
      ],
      "metadata": {
        "id": "ah_ZZeoJjYUJ"
      }
    },
    {
      "cell_type": "markdown",
      "source": [
        "**Somando Números:** Crie um programa que calcule a soma de todos os números de 1 a 100 usando um laço for."
      ],
      "metadata": {
        "id": "4c1Ey_eAjbJp"
      }
    },
    {
      "cell_type": "markdown",
      "source": [
        "**Tabuada Simples:** Escreva um programa que exiba a tabuada do 5, usando um laço for para multiplicar o número 5 por números de 1 a 10."
      ],
      "metadata": {
        "id": "eZ2_xhAKjefI"
      }
    },
    {
      "cell_type": "markdown",
      "source": [
        "**Números Pares:** Crie um programa que use um laço for para imprimir todos os números pares de 2 a 20."
      ],
      "metadata": {
        "id": "-Ch-VH0Sjlma"
      }
    }
  ]
}