{
  "nbformat": 4,
  "nbformat_minor": 0,
  "metadata": {
    "colab": {
      "provenance": [],
      "authorship_tag": "ABX9TyMhzaouaY+2Tski1/fpWpw4",
      "include_colab_link": true
    },
    "kernelspec": {
      "name": "python3",
      "display_name": "Python 3"
    },
    "language_info": {
      "name": "python"
    }
  },
  "cells": [
    {
      "cell_type": "markdown",
      "metadata": {
        "id": "view-in-github",
        "colab_type": "text"
      },
      "source": [
        "<a href=\"https://colab.research.google.com/github/anapalloma/Tech-Cafe/blob/main/Desafios_loop_for.ipynb\" target=\"_parent\"><img src=\"https://colab.research.google.com/assets/colab-badge.svg\" alt=\"Open In Colab\"/></a>"
      ]
    },
    {
      "cell_type": "markdown",
      "source": [
        "**Desafio 6.** Desenvolva um programa que leia seis números inteiros e mostre a soma apenas daqueles que forem pares. Se o valor digitado for ímpar, desconsidere-o."
      ],
      "metadata": {
        "id": "sbNWf72RcLH5"
      }
    },
    {
      "cell_type": "markdown",
      "source": [
        "**Desafio 7.** Crie um programa que leia o ano de nascimento de sete pessoas. No final, mostre quantas pessoas ainda não atingiram a maioridade e quantas já são maiores."
      ],
      "metadata": {
        "id": "jvGsvuDGcFUi"
      }
    },
    {
      "cell_type": "markdown",
      "source": [
        "**Desafio 8.** Escreva um algoritmo que exiba 20 vezes a mensagem “Eu gosto de estudar Algoritmos!”"
      ],
      "metadata": {
        "id": "ssn1Uj8ZcSRR"
      }
    },
    {
      "cell_type": "markdown",
      "source": [
        "**Desafio 9.** Leia o nome e um número N do usuáro. Então, escreva o nome dele na tela N vezes."
      ],
      "metadata": {
        "id": "aIbgi11pcpjP"
      }
    },
    {
      "cell_type": "markdown",
      "source": [
        "**Desafio 10.** Escreva um algoritmo que leia 10 números do usuário e exiba quantos números são maiores do que 8."
      ],
      "metadata": {
        "id": "1oiYHblbcq03"
      }
    },
    {
      "cell_type": "markdown",
      "source": [
        "**Desafio 11.** Faça um algoritmo que leia 10 números e, ao final, escreva quantos estão entre 0 e 100, quantos estão entre 101 e 200 e quantos são maiores de 200."
      ],
      "metadata": {
        "id": "YxNc81rScsBl"
      }
    },
    {
      "cell_type": "markdown",
      "source": [
        "**Desafio 12.** Faça um programa que verifique e mostre os números entre 1.000 e 2.000 (inclusive) que, quando divididos por 11 produzam resto igual a 2."
      ],
      "metadata": {
        "id": "ARs30IcSctBs"
      }
    }
  ]
}