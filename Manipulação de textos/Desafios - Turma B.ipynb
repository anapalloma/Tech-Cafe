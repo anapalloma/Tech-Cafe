{
  "nbformat": 4,
  "nbformat_minor": 0,
  "metadata": {
    "colab": {
      "provenance": [],
      "authorship_tag": "ABX9TyNe8qGfHCwRok3M6ZnP/wZi",
      "include_colab_link": true
    },
    "kernelspec": {
      "name": "python3",
      "display_name": "Python 3"
    },
    "language_info": {
      "name": "python"
    }
  },
  "cells": [
    {
      "cell_type": "markdown",
      "metadata": {
        "id": "view-in-github",
        "colab_type": "text"
      },
      "source": [
        "<a href=\"https://colab.research.google.com/github/anapalloma/Tech-Cafe/blob/main/Desafios_manipulacao_de_textos_kids.ipynb\" target=\"_parent\"><img src=\"https://colab.research.google.com/assets/colab-badge.svg\" alt=\"Open In Colab\"/></a>"
      ]
    },
    {
      "cell_type": "markdown",
      "source": [
        "**Desafio 1.** Desenvolva um programa que solicite ao usuário uma frase. Em seguida, seu programa deve realizar diferentes transformações na frase, como colocar todas as letras em maiúsculas e substituir algumas letras por símbolos. O objetivo é explorar manipulações simples de strings em Python."
      ],
      "metadata": {
        "id": "-TeQQ53m3rvj"
      }
    },
    {
      "cell_type": "markdown",
      "source": [
        "**Desafio 2.**  Peça ao usuário para digitar uma frase. Então, seu programa deve converter a frase em um \"código secreto\", substituindo cada vogal da frase por um símbolo específico (por exemplo, substituir 'a' por '@', 'e' por '#', 'i' por '!', 'o' por '$' e 'u' por '%'). No final, o algoritmo deve mostrar a frase original e o \"código secreto\" para o usuário."
      ],
      "metadata": {
        "id": "EpKlmJHH0OPC"
      }
    },
    {
      "cell_type": "markdown",
      "source": [
        "**Desafio 3.** Crie um programa que omita uma palavra dentro da frase \"Eu gosto muito de...\". A palavra oculta deve ser atribuída a uma variável separada. O programa deve solicitar ao usuário que tente adivinhar qual palavra está oculta. Em seguida, o código deve comparar a palavra digitada pelo usuário com a palavra oculta e fornecer uma resposta apropriada: \"Parabéns, você acertou!\" se estiver correto, ou \"Tente novamente!\" se estiver errado. O objetivo é praticar a manipulação de strings e o uso de condicionais (if-else)."
      ],
      "metadata": {
        "id": "wtIaXCxE1bj6"
      }
    },
    {
      "cell_type": "markdown",
      "source": [
        "**Desafio 4.** Crie um programa que peça ao usuário para digitar uma palavra e uma letra. Seu programa deve contar quantas vezes essa letra aparece na palavra informada e informar ao usuário."
      ],
      "metadata": {
        "id": "fR4X7oCg2mh6"
      }
    },
    {
      "cell_type": "markdown",
      "source": [
        "**Deafio 5.** Desenvolva um programa que peça ao usuário para digitar uma frase e uma palavra específica. O programa deve contar quantas vezes essa palavra aparece na frase e exibir o resultado."
      ],
      "metadata": {
        "id": "_dBk5PGi365X"
      }
    },
    {
      "cell_type": "markdown",
      "source": [
        "**Desafio 6.** Crie um programa que peça ao usuário para fornecer três palavras diferentes (um lugar, uma atividade e um animal). O programa deve inserir essas palavras em uma história pré-definida, criando uma narrativa divertida. Por exemplo, \"Em um [lugar], eu vi um [animal] que estava [atividade]\"."
      ],
      "metadata": {
        "id": "lqdBhTo74yBM"
      }
    }
  ]
}