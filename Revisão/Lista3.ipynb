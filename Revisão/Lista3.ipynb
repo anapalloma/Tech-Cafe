{
 "cells": [
  {
   "cell_type": "markdown",
   "metadata": {},
   "source": [
    "27. Numa eleição existem três candidatos. Faça um programa que peça o número total de eleitores. Peça para cada eleitor votar e ao final mostrar o número de votos de cada candidato. "
   ]
  },
  {
   "cell_type": "markdown",
   "metadata": {},
   "source": [
    "28. Faça um programa, utilizando while, que permita o usuário fazer contas de adição enquanto quiser."
   ]
  },
  {
   "cell_type": "markdown",
   "metadata": {},
   "source": [
    "29. Faça um programa que receba dois números inteiros e gere os números inteiros que estão no intervalo compreendido por eles. "
   ]
  },
  {
   "cell_type": "markdown",
   "metadata": {},
   "source": [
    "30. O cardápio de uma lanchonete é o seguinte:\n",
    "\n",
    "    Especificação   Código  Preço<br>\n",
    "    Cachorro Quente 100     R/$ 1,20<br>\n",
    "    Bauru Simples   101     R$ 1,30<br>\n",
    "    Bauru com ovo   102     R$ 1,50<br>\n",
    "    Hambúrguer      103     R$ 1,20<br>\n",
    "    Cheeseburguer   104     R$ 1,30<br>\n",
    "    Refrigerante    105     R$ 1,00<br>\n",
    "\n",
    "    Faça um programa que leia o código dos itens pedidos e as quantidades desejadas. Calcule e mostre o valor a ser pago por item (preço * quantidade) e o total geral do pedido. Considere que o cliente deve informar quando o pedido deve ser encerrado. "
   ]
  }
 ],
 "metadata": {
  "kernelspec": {
   "display_name": "Python 3",
   "language": "python",
   "name": "python3"
  },
  "language_info": {
   "codemirror_mode": {
    "name": "ipython",
    "version": 3
   },
   "file_extension": ".py",
   "mimetype": "text/x-python",
   "name": "python",
   "nbconvert_exporter": "python",
   "pygments_lexer": "ipython3",
   "version": "3.12.4"
  }
 },
 "nbformat": 4,
 "nbformat_minor": 2
}
