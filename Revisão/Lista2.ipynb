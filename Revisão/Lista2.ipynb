{
 "cells": [
  {
   "cell_type": "markdown",
   "metadata": {},
   "source": [
    "16. Classificação de Notas:\n",
    "\n",
    "Crie um programa que solicite ao usuário uma nota de 0 a 100 e classifique-a como \"A\", \"B\", \"C\", \"D\" ou \"F\" de acordo com a seguinte escala:\n",
    "\n",
    "    A: 90 a 100\n",
    "    B: 80 a 89\n",
    "    C: 70 a 79\n",
    "    D: 60 a 69\n",
    "    F: abaixo de 60"
   ]
  },
  {
   "cell_type": "markdown",
   "metadata": {},
   "source": [
    "17. Contador de Vogais:\n",
    "\n",
    "    Crie um programa que peça ao usuário para inserir uma frase e conte quantas vogais (a, e, i, o, u) estão presentes. Exiba o total de vogais."
   ]
  },
  {
   "cell_type": "markdown",
   "metadata": {},
   "source": [
    "18. Posição de uma palavra:\n",
    "\n",
    "Crie um programa que peça ao usuário para inserir uma frase e uma palavra. Utilize find() para verificar a posição da palavra na frase e exiba a posição. Se a palavra não estiver na frase, imprima \"Palavra não encontrada\". "
   ]
  },
  {
   "cell_type": "markdown",
   "metadata": {},
   "source": [
    "18. Verificador de comprimento:\n",
    "\n",
    "Peça ao usuário para inserir uma string e verifique seu comprimento. Se maior que 10, imprima \"O texto é longo\"; se não, \"O texto é curto\"."
   ]
  },
  {
   "cell_type": "markdown",
   "metadata": {},
   "source": [
    "18. Contador de palavras:\n",
    "\n",
    "Solicite ao usuário para inserir uma frase e conte quantas vezes a palavra \"Python\" aparece nela."
   ]
  },
  {
   "cell_type": "markdown",
   "metadata": {},
   "source": [
    "19. Substituição de Palavras:\n",
    "\n",
    "    Crie um programa que peça ao usuário para inserir uma frase e uma palavra. Utilize replace() para substituir todas as ocorrências da palavra informada pelo usuário por \"****\". Exiba a frase alterada."
   ]
  },
  {
   "cell_type": "markdown",
   "metadata": {},
   "source": [
    "20. Formatação de Nome:\n",
    "\n",
    "    Peça ao usuário para inserir seu nome completo e automatize a formate corretamente cada parte do nome.\n",
    "    Ex: \"joão da silva\" deve se tornar \"João Da Silva\"."
   ]
  },
  {
   "cell_type": "markdown",
   "metadata": {},
   "source": [
    "21. Solicite ao usuário uma frase. Mas garanta que apenas a primeira letra da frase esteja em maiúscula. Exiba a frase resultante."
   ]
  },
  {
   "cell_type": "markdown",
   "metadata": {},
   "source": [
    "22. Troca de caracteres:\n",
    "\n",
    "    Crie um programa que peça ao usuário para inserir uma frase e substitua todas as letras \"e\" por \"3\" e \"a\" por \"@\". Exiba a frase alterada."
   ]
  },
  {
   "cell_type": "markdown",
   "metadata": {},
   "source": [
    "23. Mensagem de Boas-Vindas:\n",
    "\n",
    "    Solicite ao usuário que insira seu nome e exiba uma mensagem de boas-vindas em letras maiúsculas."
   ]
  },
  {
   "cell_type": "markdown",
   "metadata": {},
   "source": [
    "24. Formatação de Citações:\n",
    "\n",
    "    Peça ao usuário para inserir uma citação e exiba a citação com a primeira letra maiúscula e o restante em minúsculas"
   ]
  },
  {
   "cell_type": "markdown",
   "metadata": {},
   "source": [
    "25. Substituição Interativa:\n",
    "\n",
    "    Solicite ao usuário para inserir uma frase e uma palavra a ser substituída por \"****\". Use um loop while para permitir que o usuário continue substituindo palavras até que ele escolha parar."
   ]
  },
  {
   "cell_type": "markdown",
   "metadata": {},
   "source": [
    "26. Peça ao usuário para inserir vários nomes. Utilize um loop while para permitir a inserção contínua de nomes até que o usuário insira uma entrada vazia. Exiba cada nome formatado com title()."
   ]
  }
 ],
 "metadata": {
  "kernelspec": {
   "display_name": "Python 3",
   "language": "python",
   "name": "python3"
  },
  "language_info": {
   "codemirror_mode": {
    "name": "ipython",
    "version": 3
   },
   "file_extension": ".py",
   "mimetype": "text/x-python",
   "name": "python",
   "nbconvert_exporter": "python",
   "pygments_lexer": "ipython3",
   "version": "3.12.4"
  }
 },
 "nbformat": 4,
 "nbformat_minor": 2
}
