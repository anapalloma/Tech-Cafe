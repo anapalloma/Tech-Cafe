{
 "cells": [
  {
   "cell_type": "markdown",
   "metadata": {},
   "source": [
    "1. Divisão Inteira de Dois Números\n",
    "\n",
    "    Descrição: Escreva um programa que calcule a divisão inteira de dois números fixos (por exemplo, 15 e 4) e exiba o resultado.\n",
    "    \n",
    "    Exemplo de saída: \"A divisão inteira de 15 por 4 é 3.\""
   ]
  },
  {
   "cell_type": "markdown",
   "metadata": {},
   "source": [
    "2. Resto da Divisão de Dois Números\n",
    "\n",
    "    Descrição: Escreva um programa que calcule o resto da divisão de dois números fixos (por exemplo, 20 e 3) e exiba o resultado.\n",
    "    \n",
    "    Exemplo de saída: \"O resto da divisão de 20 por 3 é 2.\""
   ]
  },
  {
   "cell_type": "markdown",
   "metadata": {},
   "source": [
    "3. Exponenciação Simples\n",
    "\n",
    "    Descrição: Escreva um programa que eleva um número fixo a uma potência (por exemplo, 3 elevado a 4) e exiba o resultado.\n",
    "    \n",
    "    Exemplo de saída: \"3 elevado a 4 é 81.\""
   ]
  },
  {
   "cell_type": "markdown",
   "metadata": {},
   "source": [
    "4. Divisão Inteira e Resto\n",
    "\n",
    "    Descrição: Escreva um programa que realiza tanto a divisão inteira quanto o cálculo do resto de dois números fixos (por exemplo, 19 e 5), exibindo ambos os resultados.\n",
    "    \n",
    "    Exemplo de saída: \"19 dividido por 5 é 3 (divisão inteira) e o resto é 4.\""
   ]
  },
  {
   "cell_type": "markdown",
   "metadata": {},
   "source": [
    "5. Quadrado de um Número\n",
    "\n",
    "    Descrição: Escreva um programa que calcula o quadrado de um número fixo (por exemplo, 5) e exibe o resultado.\n",
    "    \n",
    "    Exemplo de saída: \"O quadrado de 5 é 25.\""
   ]
  },
  {
   "cell_type": "markdown",
   "metadata": {},
   "source": [
    "6. Cubo de um Número\n",
    "\n",
    "    Descrição: Escreva um programa que eleva um número fixo ao cubo (por exemplo, 2) e exibe o resultado.\n",
    "    \n",
    "    Exemplo de saída: \"2 elevado ao cubo é 8."
   ]
  },
  {
   "cell_type": "markdown",
   "metadata": {},
   "source": [
    "7. Verificar Par ou Ímpar\n",
    "\n",
    "    Descrição: Escreva um programa que verifica se um número fixo (por exemplo, 10) é par ou ímpar, usando o operador de resto (%).\n",
    "    \n",
    "    Exemplo de saída: \"O número 10 é par.\""
   ]
  },
  {
   "cell_type": "markdown",
   "metadata": {},
   "source": [
    "8. Calcular a Idade em Décadas\n",
    "\n",
    "    Descrição: Escreva um programa que recebe a idade de uma pessoa (por exemplo, 45 anos) e calcula quantas décadas inteiras essa idade contém, usando a divisão inteira (//).\n",
    "    \n",
    "    Exemplo de saída: \"Uma pessoa de 45 anos viveu 4 décadas inteiras.\""
   ]
  },
  {
   "cell_type": "markdown",
   "metadata": {},
   "source": [
    "9. Potência de Dois Números\n",
    "\n",
    "    Descrição: Escreva um programa que solicita dois números, eleva o primeiro ao segundo (por exemplo, 2 elevado a 3), e exibe o resultado.\n",
    "    \n",
    "    Exemplo de saída: \"2 elevado a 3 é 8.\""
   ]
  },
  {
   "cell_type": "markdown",
   "metadata": {},
   "source": [
    "10. Verificar se uma Pessoa é Maior de Idade\n",
    "\n",
    "    Descrição: Escreva um programa que recebe a idade de uma pessoa e verifica se ela é maior de idade (idade >= 18).\n",
    "    \n",
    "    Exemplo de saída: \"Uma pessoa com 20 anos é maior de idade? True.\""
   ]
  },
  {
   "cell_type": "markdown",
   "metadata": {},
   "source": [
    "11. Verificar se um Número Está Dentro de um Intervalo\n",
    "\n",
    "    Descrição: Escreva um programa que verifica se um número fixo (por exemplo, 15) está dentro do intervalo de 10 a 20.\n",
    "    \n",
    "    Exemplo de saída: \"O número 15 está entre 10 e 20? True.\""
   ]
  },
  {
   "cell_type": "markdown",
   "metadata": {},
   "source": [
    "12. Verificar se uma Pessoa é Adulto e Tem Carteira de Motorista\n",
    "\n",
    "    Descrição: Escreva um programa que verifica se uma pessoa é maior de idade (>= 18) e possui carteira de motorista (sim ou não).\n",
    "    \n",
    "    Exemplo de saída: \"A pessoa é maior de idade e tem carteira de motorista? True.\""
   ]
  },
  {
   "cell_type": "markdown",
   "metadata": {},
   "source": [
    "13. Verificar se um Número é Par ou Positivo\n",
    "\n",
    "    Descrição: Escreva um programa que verifica se um número é par (número % 2 == 0) ou positivo (número > 0), usando o operador or.\n",
    "    \n",
    "    Exemplo de saída: \"O número 4 é par ou positivo? True.\""
   ]
  },
  {
   "cell_type": "markdown",
   "metadata": {},
   "source": [
    "14. Verificar se um Número é Par e Está em um Intervalo\n",
    "\n",
    "    Descrição: Escreva um programa que verifica se um número fixo (por exemplo, 12) é par e está no intervalo entre 10 e 20.\n",
    "    \n",
    "    Exemplo de saída: \"O número 12 é par e está entre 10 e 20? True.\""
   ]
  },
  {
   "cell_type": "markdown",
   "metadata": {},
   "source": [
    "15. Verificar se uma Pessoa Não é Criança Nem Idosa\n",
    "\n",
    "    Descrição: Escreva um programa que verifica se uma pessoa não é criança (idade < 12) nem idosa (idade >= 60), usando o operador not.\n",
    "    \n",
    "    Exemplo de saída: \"A pessoa não é criança nem idosa? True.\""
   ]
  }
 ],
 "metadata": {
  "kernelspec": {
   "display_name": "Python 3",
   "language": "python",
   "name": "python3"
  },
  "language_info": {
   "codemirror_mode": {
    "name": "ipython",
    "version": 3
   },
   "file_extension": ".py",
   "mimetype": "text/x-python",
   "name": "python",
   "nbconvert_exporter": "python",
   "pygments_lexer": "ipython3",
   "version": "3.12.4"
  }
 },
 "nbformat": 4,
 "nbformat_minor": 2
}
