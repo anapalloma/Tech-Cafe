{
  "nbformat": 4,
  "nbformat_minor": 0,
  "metadata": {
    "colab": {
      "provenance": [],
      "authorship_tag": "ABX9TyPb3SsnHv+7zvMlu+GjfEpQ",
      "include_colab_link": true
    },
    "kernelspec": {
      "name": "python3",
      "display_name": "Python 3"
    },
    "language_info": {
      "name": "python"
    }
  },
  "cells": [
    {
      "cell_type": "markdown",
      "metadata": {
        "id": "view-in-github",
        "colab_type": "text"
      },
      "source": [
        "<a href=\"https://colab.research.google.com/github/anapalloma/Tech-Cafe/blob/main/Desafios_loop_while.ipynb\" target=\"_parent\"><img src=\"https://colab.research.google.com/assets/colab-badge.svg\" alt=\"Open In Colab\"/></a>"
      ]
    },
    {
      "cell_type": "markdown",
      "source": [
        "**Desafio 1.** Crie um programa que continue pedindo ao usuário para inserir uma senha até que a senha correta seja digitada. A senha correta é \"python123\"."
      ],
      "metadata": {
        "id": "OGqO-9-PPtTO"
      }
    },
    {
      "cell_type": "markdown",
      "source": [
        "**Desafio 2**. Faça um programa que leia o sexo de uma pessoa, mas só aceite os valores 'M' ou 'F'. Caso esteja errado, peça a digitação novamente até ter um valor correto."
      ],
      "metadata": {
        "id": "mA-8kfIcIZp4"
      }
    },
    {
      "cell_type": "markdown",
      "source": [
        "**Desafio 3.** Crie um programa que peça ao usuário para inserir números inteiros positivos até que ele insira um número negativo. O programa deve contar quantos números positivos foram inseridos."
      ],
      "metadata": {
        "id": "IeIJ91PIM_mp"
      }
    },
    {
      "cell_type": "markdown",
      "source": [
        "**Desafio 4.** Crie um programa que peça ao usuário para inserir números e some todos os números pares até que o usuário insira 0."
      ],
      "metadata": {
        "id": "uwYDjLVwNGFz"
      }
    },
    {
      "cell_type": "markdown",
      "source": [
        "**Desafio 5.** Crie um programa que peça ao usuário para inserir notas (entre 0 e 10) até que ele insira uma nota negativa. O programa deve calcular e exibir a média das notas inseridas."
      ],
      "metadata": {
        "id": "E-TcD4yNNJB-"
      }
    },
    {
      "cell_type": "markdown",
      "source": [
        "**Desafio 6.** Faça um programa que leia um nome de usuário e a sua senha e não aceite a senha igual ao nome do usuário, mostrando uma mensagem de erro e voltando a pedir as informações."
      ],
      "metadata": {
        "id": "fuEcgKqSOVXn"
      }
    },
    {
      "cell_type": "markdown",
      "source": [
        "**Desafio 7.** Faça um programa que leia e valide as seguintes informações:\n",
        "\n",
        "    Nome: maior que 3 caracteres;\n",
        "    Idade: entre 0 e 150;\n",
        "    Salário: maior que zero;\n",
        "    Sexo: 'f' ou 'm';\n",
        "    Estado Civil: 's', 'c', 'v', 'd';\n"
      ],
      "metadata": {
        "id": "imWm5eozVgzq"
      }
    }
  ]
}