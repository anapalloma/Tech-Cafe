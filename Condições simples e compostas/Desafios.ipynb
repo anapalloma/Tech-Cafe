{
  "nbformat": 4,
  "nbformat_minor": 0,
  "metadata": {
    "colab": {
      "provenance": [],
      "authorship_tag": "ABX9TyPrGHiHufp5IOUTM5ZkaTG0",
      "include_colab_link": true
    },
    "kernelspec": {
      "name": "python3",
      "display_name": "Python 3"
    },
    "language_info": {
      "name": "python"
    }
  },
  "cells": [
    {
      "cell_type": "markdown",
      "metadata": {
        "id": "view-in-github",
        "colab_type": "text"
      },
      "source": [
        "<a href=\"https://colab.research.google.com/github/anapalloma/Tech-Cafe/blob/main/Condicoes_parte_1.ipynb\" target=\"_parent\"><img src=\"https://colab.research.google.com/assets/colab-badge.svg\" alt=\"Open In Colab\"/></a>"
      ]
    },
    {
      "cell_type": "markdown",
      "source": [
        "# **Condições simples e compostas**"
      ],
      "metadata": {
        "id": "3uoxwUADB-tp"
      }
    },
    {
      "cell_type": "markdown",
      "source": [
        "Condição simples:"
      ],
      "metadata": {
        "id": "ZpWT0enpEZzt"
      }
    },
    {
      "cell_type": "code",
      "execution_count": null,
      "metadata": {
        "colab": {
          "base_uri": "https://localhost:8080/"
        },
        "id": "pBapewjGBwv8",
        "outputId": "d5d00d63-2554-48dc-94c4-d8b718205bd3"
      },
      "outputs": [
        {
          "output_type": "stream",
          "name": "stdout",
          "text": [
            "Qual é o seu nome? Ana\n",
            "Que nome lindo você tem!😍\n",
            "Bom dia, Ana!\n"
          ]
        }
      ],
      "source": [
        "nome = str(input('Qual é o seu nome? ')).upper()\n",
        "if nome == 'ANA':\n",
        "  print('Que nome lindo você tem!😍')\n",
        "print(f'Bom dia, {nome.title()}!')"
      ]
    },
    {
      "cell_type": "markdown",
      "source": [
        "Condição composta:"
      ],
      "metadata": {
        "id": "yQVr7c6cTAdq"
      }
    },
    {
      "cell_type": "code",
      "source": [
        "nome = str(input('Qual é o seu nome? ')).upper()\n",
        "if nome == 'ANA':\n",
        "  print('Que nome lindo você tem!😍')\n",
        "else:\n",
        "  print('Seu nome é tão normal...')\n",
        "print(f'Bom dia, {nome.title()}!')"
      ],
      "metadata": {
        "id": "Tsr4phXFTDlI"
      },
      "execution_count": null,
      "outputs": []
    },
    {
      "cell_type": "code",
      "source": [
        "num1 = int(input('Digite a primeira nota: '))\n",
        "num2 = int(input('Digite a segunda nota: '))\n",
        "media = (num1 + num2)/2\n",
        "print(f'A sua média foi {media:.2f}!')\n",
        "\n",
        "if media >= 6.0:\n",
        "  print('\\nSua média foi boa! PARABÉNS!')\n",
        "else:\n",
        "  print('\\nSua média foi ruim! ESTUDE MAIS!')"
      ],
      "metadata": {
        "colab": {
          "base_uri": "https://localhost:8080/"
        },
        "id": "OghL0Fb5Tych",
        "outputId": "a38bdce7-23e4-492c-93ff-eb94b2de6b29"
      },
      "execution_count": null,
      "outputs": [
        {
          "output_type": "stream",
          "name": "stdout",
          "text": [
            "Digite a primeira nota: 5\n",
            "Digite a segunda nota: 3\n",
            "A sua média foi 4.00!\n",
            "\n",
            "Sua média foi ruim! ESTUDE MAIS!\n"
          ]
        }
      ]
    },
    {
      "cell_type": "markdown",
      "source": [
        "**Desafio 1.** Escreva um programa que leia a velocidade de um carro.\n",
        "Se ele ultrapassar 80km/h, mostre uma mensagem dizendo que ele foi multado\n",
        "A multa vai custar R$ 7,00 para cada quilometro acima do limite."
      ],
      "metadata": {
        "id": "Z91L67fXX-TC"
      }
    },
    {
      "cell_type": "markdown",
      "source": [
        "**Desafio 2.** Desenvolva um programa que pergunte a distância de uma viagem em Km. Calcule o preço da passagem, cobrando R\\$ 0,50 por km para viagens de até 200km e R$ 0,45 para viagens mais longas."
      ],
      "metadata": {
        "id": "sXZ4AtW-YX03"
      }
    }
  ]
}