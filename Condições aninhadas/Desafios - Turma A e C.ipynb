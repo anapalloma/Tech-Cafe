{
  "nbformat": 4,
  "nbformat_minor": 0,
  "metadata": {
    "colab": {
      "provenance": [],
      "authorship_tag": "ABX9TyMPblID/2RtDLydbjoxZ6aK",
      "include_colab_link": true
    },
    "kernelspec": {
      "name": "python3",
      "display_name": "Python 3"
    },
    "language_info": {
      "name": "python"
    }
  },
  "cells": [
    {
      "cell_type": "markdown",
      "metadata": {
        "id": "view-in-github",
        "colab_type": "text"
      },
      "source": [
        "<a href=\"https://colab.research.google.com/github/anapalloma/Tech-Cafe/blob/main/Condi%C3%A7%C3%B5es_aninhadas.ipynb\" target=\"_parent\"><img src=\"https://colab.research.google.com/assets/colab-badge.svg\" alt=\"Open In Colab\"/></a>"
      ]
    },
    {
      "cell_type": "markdown",
      "source": [
        "# **Condições aninhadas**"
      ],
      "metadata": {
        "id": "YIxb407AJaa0"
      }
    },
    {
      "cell_type": "code",
      "execution_count": null,
      "metadata": {
        "colab": {
          "base_uri": "https://localhost:8080/"
        },
        "id": "ChBbn4P0JUSK",
        "outputId": "d981f4d6-9a98-4296-a8fb-829b1ba9c67a"
      },
      "outputs": [
        {
          "output_type": "stream",
          "name": "stdout",
          "text": [
            "Qual o seu nome? Ana Palloma\n",
            "Que nome bonito! 😍\n",
            "Tenha um bom dia, Ana Palloma! 🌻🌻🌻\n"
          ]
        }
      ],
      "source": [
        "nome = str(input('Qual o seu nome? '))\n",
        "if 'Ana' in nome:\n",
        "  print('Que nome bonito! 😍')\n",
        "elif nome == 'Luiz':\n",
        "  print('Seu nome é bem popular no Brasil...  🥱')\n",
        "elif 'Brenda' in nome:\n",
        "  print(f'Prazer em te conhecer! 🫠')\n",
        "else:\n",
        "  print('Seu nome é bem normal... 🤡')\n",
        "print(f'Tenha um bom dia, {nome}! 🌻🌻🌻')"
      ]
    },
    {
      "cell_type": "markdown",
      "source": [
        "**Desafio 1.** Escreva um programa para aprovar o empréstimo bancário para a compra de uma casa. O programa vai perguntar o valor da casa, o salário do comprador e em quantos anos ele vai pagar.\n",
        "\n",
        "Calcule o valor da prestração mensal, sabendo que ela não pode exceder 30% do salário ou então o empréstimo será negado."
      ],
      "metadata": {
        "id": "q0H4xHfmVOZE"
      }
    },
    {
      "cell_type": "markdown",
      "source": [
        "**Desafio 2**. Faça um programa que leia o ano de nascimento de um jovem e informe, de acordo com sua idade:\n",
        "\n",
        "- Se ele ainda vai se alistar ao serviço militar;\n",
        "- Se já é a hora de se alistar;\n",
        "- Se já passou do tempo do alistamento.\n",
        "\n",
        "Seu programa também deverá mostrar o tempo que falta ou que passou do prazo."
      ],
      "metadata": {
        "id": "ese9Y3E4WIKW"
      }
    },
    {
      "cell_type": "markdown",
      "source": [
        "**Desafio 3.** Desenvolva uma lógica que leia o peso e a altrua de uma pessoa, e depois calcule seu IMC (divide-se o peso do paciente pela sua altura elevada ao quadrado). Posteriormente, mostre o status do paciente, de acordo com a tabela abaixo:\n",
        "\n",
        "- Abaixo de 18.5: abaixo do peso.\n",
        "- Entre 18.5 e 25: peso ideal.\n",
        "- 25 até 30: sobrepeso.\n",
        "- 30 até 40: obesidade.\n",
        "- Acima de 40: obesidade mórbida."
      ],
      "metadata": {
        "id": "PDhgtMyHX68P"
      }
    },
    {
      "cell_type": "markdown",
      "source": [
        "**Desafio 4.** Elabore um programa que calcule o valor a ser pago por um produto, considerando o seu preço normal e condição de pagamento:\n",
        "\n",
        "- À vista (dinheiro/pix): 10% de desconto.\n",
        "- À vista no cartão: 5% de desconto.\n",
        "- Em até 2x no cartão: preço normal.\n",
        "- 3x ou mais no cartão: 20% de juros."
      ],
      "metadata": {
        "id": "WJC5SjmqX9b3"
      }
    },
    {
      "cell_type": "markdown",
      "source": [
        "**Desafio 5.** Em uma empresa paga-se R\\$ 19,50 a hora e recolhe-se para o imposto de renda 10% dos salários acima de R$ 1500,00. Dado o número de horas trabalhadas por um funcionário, informe o valor do seu salário líquido."
      ],
      "metadata": {
        "id": "Pc5TYx6IeIZk"
      }
    },
    {
      "cell_type": "markdown",
      "source": [
        "**Desafio 6.** Numa faculdade, os alunos com média maior ou igual a 7,0 são aprovados, aqueles com média inferior a 3,0 são reprovados e os demais ficam de recuperação. Dadas as duas notas de um aluno, informe sua situação. Emitir as\n",
        "mensagens aprovado, reprovado e recuperação, respectivamente.\n",
        "\n"
      ],
      "metadata": {
        "id": "JpeN0WizeqTM"
      }
    },
    {
      "cell_type": "markdown",
      "source": [
        "**Desafio 7.** Elaborar um algoritmo que, dada a idade de um nadador,\n",
        "classificá-lo nas categorias: <br>\n",
        "* infantil A (5 - 7 anos) <br>\n",
        "* infantil B (8 - 10 anos) <br>\n",
        "* juvenil A (11 - 13 anos)<br>\n",
        "* juvenil B (14 -17 anos)<br>\n",
        "* adulto (maiores que 18 anos)"
      ],
      "metadata": {
        "id": "71DflH8Qetj5"
      }
    },
    {
      "cell_type": "markdown",
      "source": [
        "**Desafio 8.** Faça um algoritmo que leia o nome, o sexo e o estado civil de uma pessoa. Caso sexo seja “F” e estado civil seja “CASADA”, solicitar o tempo de casada (anos)."
      ],
      "metadata": {
        "id": "5MsxyCxqevdR"
      }
    },
    {
      "cell_type": "markdown",
      "source": [
        "**Desafio 9.** Ler um número inteiro e mostrar uma mensagem indicando se este número é par ou ímpar, e se é positivo ou negativo"
      ],
      "metadata": {
        "id": "jgGBW3wkewix"
      }
    },
    {
      "cell_type": "markdown",
      "source": [
        "**Desafio 10.** Qualquer número natural de quatro algarismos pode ser dividido em duas dezenas formadas pelos seus dois primeiros e dois\n",
        "últimos dígitos. (1297 = 12 e 97; 5314 = 53 e 14). Escreva um\n",
        "algoritmo que lê um número inteiro n (de 4 algarismos) e\n",
        "verifica se a raiz quadrada de n é igual a soma das dezenas de\n",
        "n. Ex.: n = 9801, dezenas de n = 98 + 01, soma das dezenas\n",
        "99, raiz quadrada de n = 99. Portanto, a raiz quadrada de 9801\n",
        "é igual a soma de suas dezenas."
      ],
      "metadata": {
        "id": "O-crg7G-exob"
      }
    }
  ]
}