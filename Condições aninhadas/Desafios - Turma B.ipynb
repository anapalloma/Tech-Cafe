{
  "nbformat": 4,
  "nbformat_minor": 0,
  "metadata": {
    "colab": {
      "provenance": [],
      "authorship_tag": "ABX9TyPVZAt6ChYdzQsfPYX7OFoG",
      "include_colab_link": true
    },
    "kernelspec": {
      "name": "python3",
      "display_name": "Python 3"
    },
    "language_info": {
      "name": "python"
    }
  },
  "cells": [
    {
      "cell_type": "markdown",
      "metadata": {
        "id": "view-in-github",
        "colab_type": "text"
      },
      "source": [
        "<a href=\"https://colab.research.google.com/github/anapalloma/Tech-Cafe/blob/main/Condicoes_aninhadas_kids.ipynb\" target=\"_parent\"><img src=\"https://colab.research.google.com/assets/colab-badge.svg\" alt=\"Open In Colab\"/></a>"
      ]
    },
    {
      "cell_type": "markdown",
      "source": [
        "**Desafio 1**. Crie um programa que simule o funcionamento de um semáforo. O programa deve perguntar ao usuário qual cor do semáforo ele vê (respostas possíveis: \"vermelho\", \"amarelo\" ou \"verde\"). Dependendo da cor informada, o programa deve responder com a ação correta:\n",
        "\n",
        "    Se a cor for \"vermelho\", o programa deve dizer: \"Pare!\"\n",
        "    Se a cor for \"amarelo\", o programa deve dizer: \"Diminua a velocidade!\"\n",
        "    Se a cor for \"verde\", o programa deve dizer: \"Pode seguir!\""
      ],
      "metadata": {
        "id": "Ggzrst9J59ue"
      }
    },
    {
      "cell_type": "markdown",
      "source": [
        "**Desafio 2.** Crie um programa que ajude as pessoas a decidirem se devem sair de casa com ou sem guarda-chuva. O programa deve fazer duas perguntas ao usuário:\n",
        "\n",
        "    Está chovendo? (Respostas possíveis: \"sim\" ou \"não\")\n",
        "    Você tem um guarda-chuva? (Respostas possíveis: \"sim\" ou \"não\")\n",
        "\n",
        "Com base nas respostas, o programa deve fornecer uma recomendação:\n",
        "\n",
        "    Se estiver chovendo e o usuário tiver um guarda-chuva, o programa deve dizer: \"Você pode sair, leve seu guarda-chuva!\"\n",
        "    Se estiver chovendo e o usuário não tiver um guarda-chuva, o programa deve dizer: \"Espere a chuva passar antes de sair.\"\n",
        "    Se não estiver chovendo, o programa deve dizer: \"Pode sair sem preocupações!\""
      ],
      "metadata": {
        "id": "4eqkpJZN6Mox"
      }
    },
    {
      "cell_type": "markdown",
      "source": [
        "**Desafio 3.** Crie um jogo onde o programa tenta adivinhar qual animal o usuário está pensando. O programa faz uma série de perguntas para determinar as características do animal, como:\n",
        "\n",
        "    \"O animal tem penas?\" (Respostas possíveis: \"sim\" ou \"não\")\n",
        "    \"O animal vive na água?\" (Respostas possíveis: \"sim\" ou \"não\")\n",
        "    \"O animal é doméstico?\" (Respostas possíveis: \"sim\" ou \"não\")\n",
        "\n",
        "Possíveis Saídas:\n",
        "\n",
        "    Se o usuário responder \"sim\" para \"O animal tem penas?\", \"não\" para \"O animal vive na água?\" e \"sim\" para \"O animal é doméstico?\":\n",
        "        \"Você está pensando em um papagaio!\"\n",
        "    Se o usuário responder \"não\" para \"O animal tem penas?\", \"sim\" para \"O animal vive na água?\" e \"não\" para \"O animal é doméstico?\":\n",
        "        \"Você está pensando em um tubarão!\"\n",
        "    (Outras combinações podem ser incluídas com base em diferentes animais)"
      ],
      "metadata": {
        "id": "usPv7hkJ6bI9"
      }
    },
    {
      "cell_type": "markdown",
      "source": [
        "**Desafio 4.** Crie um programa que ajude a identificar qual super-herói combina mais com as habilidades do usuário. O programa faz perguntas como:\n",
        "\n",
        "    \"Você pode voar?\" (Respostas possíveis: \"sim\" ou \"não\")\n",
        "    \"Você tem super força?\" (Respostas possíveis: \"sim\" ou \"não\")\n",
        "    \"Você pode ficar invisível?\" (Respostas possíveis: \"sim\" ou \"não\")\n",
        "\n",
        "Possíveis Saídas:\n",
        "\n",
        "    Se o usuário responder \"sim\" para \"Você pode voar?\" e \"sim\" para \"Você tem super força?\":\n",
        "        \"Você se parece com o Superman!\"\n",
        "    Se o usuário responder \"não\" para \"Você pode voar?\" e \"sim\" para \"Você pode ficar invisível?\":\n",
        "        \"Você se parece com a Mulher Invisível!\"\n",
        "    (Outras combinações podem ser incluídas com base em diferentes super-heróis)"
      ],
      "metadata": {
        "id": "REGFzKGq66ru"
      }
    },
    {
      "cell_type": "markdown",
      "source": [
        "**Desafio 5.** Crie um pequeno jogo de aventura onde o usuário faz escolhas que determinam o desenrolar da história. O programa deve apresentar uma situação inicial e opções para o usuário escolher:\n",
        "\n",
        "    \"Você está em uma floresta misteriosa. À sua frente, há dois caminhos: um à esquerda e outro à direita. Para onde você quer ir? (Respostas possíveis: \"esquerda\" ou \"direita\")\"\n",
        "\n",
        "Possíveis Saídas:\n",
        "\n",
        "    Se o usuário escolher \"esquerda\":\n",
        "        \"Você encontrou um tesouro escondido!\"\n",
        "    Se o usuário escolher \"direita\":\n",
        "        \"Você encontrou um monstro feroz!\"\n",
        "\n",
        "    Dica = Utilize emojis nas saídas."
      ],
      "metadata": {
        "id": "snfuFpyC7aO6"
      }
    },
    {
      "cell_type": "markdown",
      "source": [
        "**Desafio 6.** Neste desafio, você deve criar um programa que ajuda as pessoas a decidirem o que vestir com base na temperatura atual. O programa deve perguntar ao usuário a temperatura em graus Celsius:\n",
        "\n",
        "    \"Qual é a temperatura agora?\"\n",
        "\n",
        "Possíveis Saídas:\n",
        "\n",
        "    Se a temperatura for maior que 30°C:\n",
        "        \"Está calor! Use roupas leves.\"\n",
        "    Se a temperatura for entre 20°C e 30°C:\n",
        "        \"O tempo está agradável! Vista algo confortável.\"\n",
        "    Se a temperatura for abaixo de 20°C:\n",
        "        \"Está frio! Não esqueça de levar um casaco.\""
      ],
      "metadata": {
        "id": "uwAT0j9q7owq"
      }
    },
    {
      "cell_type": "markdown",
      "source": [
        "**Desafio 7.** Neste desafio, você deve criar um jogo onde o programa faz perguntas para descobrir qual fruta o usuário está pensando. As perguntas podem incluir:\n",
        "\n",
        "    \"A fruta é doce?\" (Respostas possíveis: \"sim\" ou \"não\")\n",
        "    \"A fruta tem casca grossa?\" (Respostas possíveis: \"sim\" ou \"não\")\n",
        "    \"A fruta é vermelha?\" (Respostas possíveis: \"sim\" ou \"não\")\n",
        "\n",
        "Possíveis Saídas:\n",
        "\n",
        "    Se o usuário responder \"sim\" para \"A fruta é doce?\", \"sim\" para \"A fruta tem casca grossa?\" e \"sim\" para \"A fruta é vermelha?\":\n",
        "        \"Você está pensando em uma melancia!\"\n",
        "    Se o usuário responder \"sim\" para \"A fruta é doce?\", \"não\" para \"A fruta tem casca grossa?\" e \"não\" para \"A fruta é vermelha?\":\n",
        "        \"Você está pensando em uma banana!\"\n",
        "    (Outras combinações podem ser incluídas com base em diferentes frutas)"
      ],
      "metadata": {
        "id": "__2P8wtI7urr"
      }
    },
    {
      "cell_type": "markdown",
      "source": [
        "**Desafio 8.** Neste desafio, você deve criar um programa que sugere um lanche saudável com base nos ingredientes que o usuário tem em casa. O programa pergunta ao usuário sobre os ingredientes disponíveis:\n",
        "\n",
        "    \"Você tem frutas?\" (Respostas possíveis: \"sim\" ou \"não\")\n",
        "    \"Você tem iogurte?\" (Respostas possíveis: \"sim\" ou \"não\")\n",
        "    \"Você tem nozes ou castanhas?\" (Respostas possíveis: \"sim\" ou \"não\")\n",
        "\n",
        "Possíveis Saídas:\n",
        "\n",
        "    Se o usuário responder \"sim\" para \"Você tem frutas?\" e \"sim\" para \"Você tem iogurte?\":\n",
        "        \"Que tal uma tigela de frutas com iogurte?\"\n",
        "    Se o usuário responder \"sim\" para \"Você tem iogurte?\" e \"sim\" para \"Você tem nozes ou castanhas?\":\n",
        "        \"Que tal iogurte com nozes e mel?\"\n",
        "    Se o usuário responder \"não\" para todas as perguntas:\n",
        "        \"Parece que você não tem todos os ingredientes para um lanche saudável. Talvez você possa fazer compras essa semana.\""
      ],
      "metadata": {
        "id": "toQwU4Rv70Of"
      }
    },
    {
      "cell_type": "markdown",
      "source": [
        "**Desafio 9.**  Neste desafio, você deve criar um programa que verifica se as ações do usuário são boas para o meio ambiente. O programa faz perguntas como:\n",
        "\n",
        "    \"Você recicla o lixo?\" (Respostas possíveis: \"sim\" ou \"não\")\n",
        "    \"Você economiza água?\" (Respostas possíveis: \"sim\" ou \"não\")\n",
        "    \"Você usa sacolas reutilizáveis?\" (Respostas possíveis: \"sim\" ou \"não\")\n",
        "\n",
        "Possíveis Saídas:\n",
        "\n",
        "    Se o usuário responder \"sim\" para todas as perguntas:\n",
        "        \"Você é um Guardião do Planeta! Continue assim!\"\n",
        "    Se o usuário responder \"sim\" para algumas perguntas e \"não\" para outras:\n",
        "        \"Você está no caminho certo, mas pode melhorar em alguns aspectos para proteger o meio ambiente.\"\n",
        "    Se o usuário responder \"não\" para todas as perguntas:\n",
        "        \"Você precisa começar a tomar mais ações para ajudar a proteger o planeta!\"\n"
      ],
      "metadata": {
        "id": "MMaSH4Xf8BUI"
      }
    },
    {
      "cell_type": "markdown",
      "source": [
        "**Desafio 10.** Neste desafio, você deve criar um jogo onde o programa pergunta ao usuário para escolher uma cor primária (vermelho, azul ou amarelo). Dependendo da cor escolhida, o programa sugere uma cor secundária que pode ser criada ao misturar a cor escolhida com outra:\n",
        "\n",
        "    \"Escolha uma cor primária: vermelho, azul ou amarelo.\"\n",
        "\n",
        "Possíveis Saídas:\n",
        "\n",
        "    Se o usuário escolher \"vermelho\":\n",
        "        \"Se você misturar vermelho com azul, você obtém roxo!\"\n",
        "    Se o usuário escolher \"azul\":\n",
        "        \"Se você misturar azul com amarelo, você obtém verde!\"\n",
        "    Se o usuário escolher \"amarelo\":\n",
        "        \"Se você misturar amarelo com vermelho, você obtém laranja!\""
      ],
      "metadata": {
        "id": "ey-FGZuB8RBr"
      }
    }
  ]
}